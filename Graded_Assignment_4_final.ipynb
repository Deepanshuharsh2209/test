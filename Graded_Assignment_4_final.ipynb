{
 "cells": [
  {
   "cell_type": "markdown",
   "metadata": {
    "id": "G3QCI3a5on63"
   },
   "source": [
    "### Question 1"
   ]
  },
  {
   "cell_type": "code",
   "execution_count": null,
   "metadata": {
    "colab": {
     "base_uri": "https://localhost:8080/"
    },
    "id": "z3I6h9aYKD1p",
    "outputId": "b050d12a-9b72-489e-8153-af5f2aafc683"
   },
   "outputs": [
    {
     "name": "stdout",
     "output_type": "stream",
     "text": [
      "Mean Run Time: 1.2285182213783263, Standard Deviation: 0.39937773484139794\n",
      "Mean Run Time: 1.186874737739563, Standard Deviation: 0.30599618690964037\n",
      "Mean Run Time: 1.209640781879425, Standard Deviation: 0.3730695870747522\n",
      "Mean Run Time: 1.1958308982849122, Standard Deviation: 0.3145100147330479\n",
      "Mean Run Time: 1.1833655428886414, Standard Deviation: 0.3049901720545668\n"
     ]
    }
   ],
   "source": [
    "import random\n",
    "import statistics\n",
    "import time\n",
    "\n",
    "def selection_sort(arr):\n",
    "    for i in range(len(arr)):\n",
    "        min_idx = i\n",
    "        for j in range(i+1, len(arr)):\n",
    "            if arr[j] < arr[min_idx]:\n",
    "                min_idx = j\n",
    "        arr[i], arr[min_idx] = arr[min_idx], arr[i]\n",
    "\n",
    "def benchmark(n, k, m):\n",
    "    all_run_times = []\n",
    "    for _ in range(m):\n",
    "        random_lists = [[random.randint(1, n) for _ in range(n)] for _ in range(k)]\n",
    "        run_times = []\n",
    "        for lst in random_lists:\n",
    "            start_time = time.time()\n",
    "            selection_sort(lst)\n",
    "            end_time = time.time()\n",
    "            run_times.append(end_time - start_time)\n",
    "        all_run_times.append(run_times)\n",
    "\n",
    "    for run_times in all_run_times:\n",
    "        mean_run_time = statistics.mean(run_times)\n",
    "        std_deviation = statistics.stdev(run_times)\n",
    "        print(f\"Mean Run Time: {mean_run_time}, Standard Deviation: {std_deviation}\")\n",
    "\n",
    "benchmark(5000, 100, 5)"
   ]
  },
  {
   "cell_type": "markdown",
   "metadata": {
    "id": "bvbkVfyuon69"
   },
   "source": [
    "### Question 2"
   ]
  },
  {
   "cell_type": "code",
   "execution_count": null,
   "metadata": {
    "colab": {
     "background_save": true
    },
    "id": "Q7meT_NmNcyx",
    "outputId": "3d2d6940-7f2e-41d3-bb04-55b02e2e150a"
   },
   "outputs": [
    {
     "name": "stdout",
     "output_type": "stream",
     "text": [
      "Mean Run Time: 2.771857490539551, Standard Deviation: 0.6115362807925399\n",
      "Mean Run Time: 2.751473512649536, Standard Deviation: 0.5834940368844583\n",
      "Mean Run Time: 2.72887083530426, Standard Deviation: 0.5255455295918565\n",
      "Mean Run Time: 2.624037353992462, Standard Deviation: 0.397719742198794\n",
      "Mean Run Time: 2.651531021595001, Standard Deviation: 0.39798379974893144\n"
     ]
    }
   ],
   "source": [
    "import numpy as np\n",
    "import time\n",
    "\n",
    "def insertion_sort(arr):\n",
    "    for i in range(1, len(arr)):\n",
    "        key = arr[i]\n",
    "        j = i-1\n",
    "        while j >=0 and key < arr[j] :\n",
    "                arr[j+1] = arr[j]\n",
    "                j -= 1\n",
    "        arr[j+1] = key\n",
    "\n",
    "def benchmark(n, k, m):\n",
    "    run_times = []\n",
    "    for _ in range(m):\n",
    "        random_lists = [np.random.randint(1, n, size=n) for _ in range(k)]\n",
    "        current_run_times = []\n",
    "        for lst in random_lists:\n",
    "            start_time = time.time()\n",
    "            insertion_sort(lst)\n",
    "            end_time = time.time()\n",
    "            current_run_times.append(end_time - start_time)\n",
    "        run_times.append(current_run_times)\n",
    "\n",
    "    for run_times in run_times:\n",
    "        mean_run_time = np.mean(run_times)\n",
    "        std_deviation = np.std(run_times)\n",
    "        print(f\"Mean Run Time: {mean_run_time}, Standard Deviation: {std_deviation}\")\n",
    "\n",
    "benchmark(5000, 100, 5)"
   ]
  },
  {
   "cell_type": "markdown",
   "metadata": {
    "id": "VUjzW6pyon6-"
   },
   "source": [
    "### Question 3"
   ]
  },
  {
   "cell_type": "code",
   "execution_count": 5,
   "metadata": {
    "colab": {
     "base_uri": "https://localhost:8080/"
    },
    "id": "tcPUPp51NvEb",
    "outputId": "e563ff71-dec9-4cbb-e0df-b97ae06c183d"
   },
   "outputs": [
    {
     "name": "stdout",
     "output_type": "stream",
     "text": [
      "Cutoff: 0 \n",
      "\n",
      "Mean Run Time: 0.32276984691619875, Standard Deviation: 0.09859811556110071\n",
      "Mean Run Time: 0.2994345498085022, Standard Deviation: 0.0842057389228467\n",
      "Mean Run Time: 0.30087669134140016, Standard Deviation: 0.08401451460480619\n",
      "Mean Run Time: 0.3129267954826355, Standard Deviation: 0.09757784047520705\n",
      "Mean Run Time: 0.301538782119751, Standard Deviation: 0.08249524936517053\n",
      "---------------------------------------------------------------------------\n",
      "Cutoff: 10 \n",
      "\n",
      "Mean Run Time: 0.30027438640594484, Standard Deviation: 0.08397380078858636\n",
      "Mean Run Time: 0.3135945463180542, Standard Deviation: 0.09938490791627748\n",
      "Mean Run Time: 0.305831093788147, Standard Deviation: 0.08891732069209311\n",
      "Mean Run Time: 0.3024971127510071, Standard Deviation: 0.08396464290331224\n",
      "Mean Run Time: 0.3072750735282898, Standard Deviation: 0.08711217846371673\n",
      "---------------------------------------------------------------------------\n",
      "Cutoff: 20 \n",
      "\n",
      "Mean Run Time: 0.3170004153251648, Standard Deviation: 0.09944767166293125\n",
      "Mean Run Time: 0.3021961045265198, Standard Deviation: 0.08344780719220428\n",
      "Mean Run Time: 0.2991514015197754, Standard Deviation: 0.08634956422199504\n",
      "Mean Run Time: 0.31277262210845946, Standard Deviation: 0.10023663380073791\n",
      "Mean Run Time: 0.29996212720870974, Standard Deviation: 0.08187377518693796\n",
      "---------------------------------------------------------------------------\n",
      "Cutoff: 50 \n",
      "\n",
      "Mean Run Time: 0.3001334834098816, Standard Deviation: 0.08201407199802316\n",
      "Mean Run Time: 0.3131410503387451, Standard Deviation: 0.09836562998553754\n",
      "Mean Run Time: 0.3031451988220215, Standard Deviation: 0.08381778088098521\n",
      "Mean Run Time: 0.2875949287414551, Standard Deviation: 0.06417655559987731\n",
      "Mean Run Time: 0.28641753673553466, Standard Deviation: 0.06383008054584186\n",
      "---------------------------------------------------------------------------\n",
      "Cutoff: 70 \n",
      "\n",
      "Mean Run Time: 0.2969159460067749, Standard Deviation: 0.07785052414081303\n",
      "Mean Run Time: 0.2900466537475586, Standard Deviation: 0.07929317085146124\n",
      "Mean Run Time: 0.2824787330627441, Standard Deviation: 0.06397035887101585\n",
      "Mean Run Time: 0.2859543490409851, Standard Deviation: 0.06431651994880587\n",
      "Mean Run Time: 0.2939318680763245, Standard Deviation: 0.07840221273410027\n",
      "---------------------------------------------------------------------------\n",
      "Cutoff: 100 \n",
      "\n",
      "Mean Run Time: 0.2989135718345642, Standard Deviation: 0.07706557810027147\n",
      "Mean Run Time: 0.2890201616287231, Standard Deviation: 0.06692434219411568\n",
      "Mean Run Time: 0.28889344692230223, Standard Deviation: 0.06190760434266269\n",
      "Mean Run Time: 0.2904052186012268, Standard Deviation: 0.06697689464790312\n",
      "Mean Run Time: 0.295791654586792, Standard Deviation: 0.07809022173792347\n",
      "---------------------------------------------------------------------------\n",
      "Cutoff: 500 \n",
      "\n",
      "Mean Run Time: 0.2993943691253662, Standard Deviation: 0.07727167421574722\n",
      "Mean Run Time: 0.29184468507766725, Standard Deviation: 0.07345828268572796\n",
      "Mean Run Time: 0.2830499076843262, Standard Deviation: 0.06712047376869215\n",
      "Mean Run Time: 0.280838770866394, Standard Deviation: 0.06267847217666085\n",
      "Mean Run Time: 0.2892087650299072, Standard Deviation: 0.07941730928180361\n",
      "---------------------------------------------------------------------------\n"
     ]
    }
   ],
   "source": [
    "import numpy as np\n",
    "import random\n",
    "import time\n",
    "random.seed(12)\n",
    "\n",
    "def insertion_sort(arr):\n",
    "    for i in range(1, len(arr)):\n",
    "        key = arr[i]\n",
    "        j = i-1\n",
    "        while j >=0 and key < arr[j] :\n",
    "                arr[j+1] = arr[j]\n",
    "                j -= 1\n",
    "        arr[j+1] = key\n",
    "\n",
    "def merge_sort(arr):\n",
    "    if len(arr) > 1:\n",
    "        mid = len(arr) // 2\n",
    "        left = arr[:mid]\n",
    "        right = arr[mid:]\n",
    "\n",
    "        merge_sort(left)\n",
    "        merge_sort(right)\n",
    "\n",
    "        i = j = k = 0\n",
    "\n",
    "        while i < len(left) and j < len(right):\n",
    "            if left[i] < right[j]:\n",
    "                arr[k] = left[i]\n",
    "                i += 1\n",
    "            else:\n",
    "                arr[k] = right[j]\n",
    "                j += 1\n",
    "            k += 1\n",
    "\n",
    "        while i < len(left):\n",
    "            arr[k] = left[i]\n",
    "            i += 1\n",
    "            k += 1\n",
    "\n",
    "        while j < len(right):\n",
    "            arr[k] = right[j]\n",
    "            j += 1\n",
    "            k += 1\n",
    "\n",
    "def hybrid_sort(arr, cutoff=0):\n",
    "    if len(arr) <= cutoff:\n",
    "        insertion_sort(arr)\n",
    "    else:\n",
    "        merge_sort(arr)\n",
    "\n",
    "def benchmark_sort(n, k, m, cutoff):\n",
    "    run_times = []\n",
    "    for _ in range(m):\n",
    "        random_lists = [random.sample(range(1, n+1), n) for _ in range(k)]\n",
    "        current_run_times = []\n",
    "        for lst in random_lists:\n",
    "            start_time = time.time()\n",
    "            hybrid_sort(lst, cutoff)\n",
    "            end_time = time.time()\n",
    "            current_run_times.append(end_time - start_time)\n",
    "        run_times.append(current_run_times)\n",
    "\n",
    "    for run_times in run_times:\n",
    "        mean_run_time = np.mean(run_times)\n",
    "        std_deviation = np.std(run_times)\n",
    "        print(f\"Mean Run Time: {mean_run_time}, Standard Deviation: {std_deviation}\")\n",
    "cutoffs = [0, 10, 20, 50, 70, 100, 500]\n",
    "results = []\n",
    "\n",
    "for cutoff in cutoffs:\n",
    "    print(f\"Cutoff: {cutoff} \\n\")\n",
    "    result = benchmark_sort(50000, 100, 5, cutoff)\n",
    "    print(\"---------------------------------------------------------------------------\")"
   ]
  },
  {
   "cell_type": "markdown",
   "metadata": {},
   "source": [
    "#### The optimum cutoff value came out to be 70"
   ]
  },
  {
   "cell_type": "markdown",
   "metadata": {
    "id": "mnRjp4yQon6_"
   },
   "source": [
    "### Question 4"
   ]
  },
  {
   "cell_type": "code",
   "execution_count": 6,
   "metadata": {
    "colab": {
     "base_uri": "https://localhost:8080/"
    },
    "id": "8k3ljJqZUV8_",
    "outputId": "3a4f7870-f65b-4651-f733-5e999bb801d8"
   },
   "outputs": [
    {
     "name": "stdout",
     "output_type": "stream",
     "text": [
      "Cutoff: 0 \n",
      "\n",
      "Mean Run Time: 0.21491616010665893, Standard Deviation: 0.05676550508515785\n",
      "Mean Run Time: 0.21727160215377808, Standard Deviation: 0.056508008878718645\n",
      "Mean Run Time: 0.217234308719635, Standard Deviation: 0.05562977416998789\n",
      "Mean Run Time: 0.2160613751411438, Standard Deviation: 0.05726362221066732\n",
      "Mean Run Time: 0.2133381986618042, Standard Deviation: 0.05005425326754234\n",
      "------------------------------------------------------------------------------\n",
      "Cutoff: 10 \n",
      "\n",
      "Mean Run Time: 0.16939738035202026, Standard Deviation: 0.038443902994574175\n",
      "Mean Run Time: 0.17653842210769655, Standard Deviation: 0.05131143976859779\n",
      "Mean Run Time: 0.17549546003341676, Standard Deviation: 0.049252448231063554\n",
      "Mean Run Time: 0.16787487268447876, Standard Deviation: 0.0349289391591552\n",
      "Mean Run Time: 0.16833213806152345, Standard Deviation: 0.036833387451002696\n",
      "------------------------------------------------------------------------------\n",
      "Cutoff: 20 \n",
      "\n",
      "Mean Run Time: 0.17492905616760254, Standard Deviation: 0.04757770880598241\n",
      "Mean Run Time: 0.17835447549819947, Standard Deviation: 0.051588159240243306\n",
      "Mean Run Time: 0.1797720980644226, Standard Deviation: 0.052790627112760585\n",
      "Mean Run Time: 0.17087350606918336, Standard Deviation: 0.03829086474020214\n",
      "Mean Run Time: 0.17343903541564942, Standard Deviation: 0.03774842270026862\n",
      "------------------------------------------------------------------------------\n",
      "Cutoff: 50 \n",
      "\n",
      "Mean Run Time: 0.20959126234054565, Standard Deviation: 0.05647088652482637\n",
      "Mean Run Time: 0.20266884565353394, Standard Deviation: 0.04425790092105343\n",
      "Mean Run Time: 0.2036497735977173, Standard Deviation: 0.04031758134246486\n",
      "Mean Run Time: 0.2105778408050537, Standard Deviation: 0.05439292953359521\n",
      "Mean Run Time: 0.21177055835723876, Standard Deviation: 0.05616427167352947\n",
      "------------------------------------------------------------------------------\n",
      "Cutoff: 70 \n",
      "\n",
      "Mean Run Time: 0.2322094440460205, Standard Deviation: 0.05910804004817911\n",
      "Mean Run Time: 0.2311019253730774, Standard Deviation: 0.05617757035655831\n",
      "Mean Run Time: 0.22991729497909547, Standard Deviation: 0.056999274405435806\n",
      "Mean Run Time: 0.23101240634918213, Standard Deviation: 0.059050581763300865\n",
      "Mean Run Time: 0.23178106546401978, Standard Deviation: 0.058914273917626325\n",
      "------------------------------------------------------------------------------\n",
      "Cutoff: 100 \n",
      "\n",
      "Mean Run Time: 0.27872992277145386, Standard Deviation: 0.0736407752836724\n",
      "Mean Run Time: 0.2691068267822266, Standard Deviation: 0.0638677970243331\n",
      "Mean Run Time: 0.2768580913543701, Standard Deviation: 0.07416000313462914\n",
      "Mean Run Time: 0.26676191568374635, Standard Deviation: 0.06372397100590266\n",
      "Mean Run Time: 0.26940786123275756, Standard Deviation: 0.06552990079723417\n",
      "------------------------------------------------------------------------------\n",
      "Cutoff: 500 \n",
      "\n",
      "Mean Run Time: 0.8867983651161194, Standard Deviation: 0.19876029333752301\n",
      "Mean Run Time: 0.8863786602020264, Standard Deviation: 0.20358901750349248\n",
      "Mean Run Time: 0.8892183327674865, Standard Deviation: 0.1854430082568009\n",
      "Mean Run Time: 0.8850806999206543, Standard Deviation: 0.19559066611494713\n",
      "Mean Run Time: 0.878650119304657, Standard Deviation: 0.18033636337887676\n",
      "------------------------------------------------------------------------------\n"
     ]
    }
   ],
   "source": [
    "import numpy as np\n",
    "import random\n",
    "import time\n",
    "from typing import List\n",
    "random.seed(12)\n",
    "\n",
    "def partition(arr: List[int], low: int, high: int) -> int:\n",
    "    i = (low - 1)         # index of smaller element\n",
    "    pivot = arr[high]     # pivot\n",
    "\n",
    "    for j in range(low, high):\n",
    "        # If current element is smaller than or equal to pivot\n",
    "        if arr[j] <= pivot:\n",
    "            # increment index of smaller element\n",
    "            i = i + 1\n",
    "            arr[i], arr[j] = arr[j], arr[i]\n",
    "\n",
    "    arr[i + 1], arr[high] = arr[high], arr[i + 1]\n",
    "    return (i + 1)\n",
    "\n",
    "def randomized_quick_sort(arr: List[int], low: int, high: int, cutoff: int) -> None:\n",
    "    if len(arr) == 1:\n",
    "        return arr\n",
    "    if low < high:\n",
    "        # pi is partitioning index, arr[p] is now at right place.\n",
    "        pi = randomized_partition(arr, low, high)\n",
    "\n",
    "        # Separately sort elements before partition and after partition.\n",
    "        randomized_quick_sort(arr, low, pi - 1, cutoff)\n",
    "        randomized_quick_sort(arr, pi + 1, high, cutoff)\n",
    "\n",
    "def randomized_partition(arr: List[int], low: int, high: int) -> int:\n",
    "    n = high - low + 1\n",
    "    pivot = random.randint(low, high)\n",
    "    arr[high], arr[pivot] = arr[pivot], arr[high]\n",
    "    return partition(arr, low, high)\n",
    "\n",
    "def insertion_sort(arr: List[int], low: int, high: int) -> None:\n",
    "    for i in range(low + 1, high + 1):\n",
    "        key = arr[i]\n",
    "        j = i - 1\n",
    "        while j >= low and key < arr[j]:\n",
    "            arr[j + 1] = arr[j]\n",
    "            j -= 1\n",
    "        arr[j + 1] = key\n",
    "\n",
    "def hybrid_randomized_quick_iteration_sort(arr: List[int], low: int, high: int, cutoff: int) -> None:\n",
    "    while low < high:\n",
    "        size = high - low + 1\n",
    "        if size <= cutoff:\n",
    "            insertion_sort(arr, low, high)\n",
    "            break\n",
    "        else:\n",
    "            pivot = randomized_partition(arr, low, high)\n",
    "            hybrid_randomized_quick_iteration_sort(arr, low, pivot - 1, cutoff)\n",
    "            low = pivot + 1\n",
    "def benchmark_sort2(n, k, m, cutoff):\n",
    "    run_times = []\n",
    "    for _ in range(m):\n",
    "        random_lists = [random.sample(range(1, n+1), n) for _ in range(k)]\n",
    "        current_run_times = []\n",
    "        for lst in random_lists:\n",
    "            start_time = time.time()\n",
    "            hybrid_randomized_quick_iteration_sort(lst,0,len(lst)-1, cutoff)\n",
    "            end_time = time.time()\n",
    "            current_run_times.append(end_time - start_time)\n",
    "        run_times.append(current_run_times)\n",
    "\n",
    "    for run_times in run_times:\n",
    "        mean_run_time = np.mean(run_times)\n",
    "        std_deviation = np.std(run_times)\n",
    "        print(f\"Mean Run Time: {mean_run_time}, Standard Deviation: {std_deviation}\")\n",
    "\n",
    "\n",
    "cutoffs = [0, 10, 20,50,70, 100, 500]\n",
    "results = []\n",
    "\n",
    "for cutoff in cutoffs:\n",
    "    print(f\"Cutoff: {cutoff} \\n\")\n",
    "    result = benchmark_sort2(50000, 100, 5, cutoff)\n",
    "    print(\"------------------------------------------------------------------------------\")"
   ]
  },
  {
   "cell_type": "markdown",
   "metadata": {},
   "source": [
    "#### The optimum cutoff value came out to be 10"
   ]
  }
 ],
 "metadata": {
  "colab": {
   "provenance": []
  },
  "kernelspec": {
   "display_name": "Python 3 (ipykernel)",
   "language": "python",
   "name": "python3"
  },
  "language_info": {
   "codemirror_mode": {
    "name": "ipython",
    "version": 3
   },
   "file_extension": ".py",
   "mimetype": "text/x-python",
   "name": "python",
   "nbconvert_exporter": "python",
   "pygments_lexer": "ipython3",
   "version": "3.11.4"
  }
 },
 "nbformat": 4,
 "nbformat_minor": 4
}
